{
 "cells": [
  {
   "cell_type": "code",
   "execution_count": null,
   "id": "9562fa2f",
   "metadata": {},
   "outputs": [],
   "source": [
    "import requests\n",
    "from bs4 import BeautifulSoup\n",
    "base_url = \"https://jolse.com/category/toners-mists/1019/\"\n",
    "start_no = 1\n",
    "url =base_url+\"?page=\"+str(start_no)\n",
    "response = requests.get(url, headers={\"User-Agent\": \"Mozilla/5.0\"})\n",
    "bs_obj = BeautifulSoup(response.content, 'html.parser')\n",
    "print(bs_obj)"
   ]
  },
  {
   "cell_type": "markdown",
   "id": "34eba84d",
   "metadata": {},
   "source": [
    "bs_obj를 출력한 결과창이다. 홈페이지에서 f12로 모든 메뉴를 담고 있는 레이아웃을 클릭한 결과 <ul class= \"prdList grid5\">가 나왔다."
   ]
  },
  {
   "cell_type": "code",
   "execution_count": null,
   "id": "d1c9a484",
   "metadata": {},
   "outputs": [],
   "source": [
    "print(bs_obj.findAll(\"ul\",{\"class\": \"prdList\"}))"
   ]
  },
  {
   "cell_type": "code",
   "execution_count": null,
   "id": "e2fd4612",
   "metadata": {},
   "outputs": [],
   "source": [
    "print(bs_obj.findAll(\"ul\",{\"class\": \"prdList\"})[0].text)"
   ]
  },
  {
   "cell_type": "markdown",
   "id": "47f25796",
   "metadata": {},
   "source": [
    "Product : Abib Heartleaf Calming Toner Skin Booster 210ml Price USD 21.00 USD 17.85 Product : Cos De BAHA Centella Facial Toner 200ml Price USD 16.45 USD 13.16 .... 각 물건의 정보를 담고 있는것이 5개가 보인다. 홈페이지는 총 25개의 값을 담고 있다. 나머지 20개는 어디 있을까?"
   ]
  },
  {
   "cell_type": "code",
   "execution_count": null,
   "id": "2deb8105",
   "metadata": {},
   "outputs": [],
   "source": [
    "print(bs_obj.findAll(\"ul\",{\"class\": \"prdList\"})[1].text)"
   ]
  },
  {
   "cell_type": "markdown",
   "id": "de000d09",
   "metadata": {},
   "source": [
    "class가 prdList인 ul에서 총 30개의 값을 담고 있고 prdList는 findAll로 찍어본결과, index가 0만 생기는것이아니라 1번까지 생긴다. 고로 prdList는 2개가 존재한다. prdList의 0에는 제품군 5개가, 1번에는 제품군이 20개가 있는데 상단 5개는 추천 상품 리스트 이고, 하단 20개는 기존 제품군 20개를 출력하는 것일 수 도 있다."
   ]
  },
  {
   "cell_type": "raw",
   "id": "f8344e08",
   "metadata": {},
   "source": [
    "이미지를 눌러보자, 이미지를 누르면 <div class=\"prdimg\">밑에 해당 주소값을 가지고 있는 <a href= ~~>가 보인다.\n",
    "이 div의 상단은 <div class=\"thumbnail\">이다.\n",
    "그 상단의 더 위에는 li가 있다. 그 리스트는 id=\"anchorBoxID_숫자\"로 이루어져 있는데, class는 xans-record-로 동일하다.\n",
    "이러한 리스트들을 담고 있는 상단 클래스는 ul class=\"prdList\"이다. 따라서 \n",
    "<ul class=\"prdList\">안에 제품군 이름, 제품군 가격, 제품군 주소를 다 담고 있는것이다."
   ]
  },
  {
   "cell_type": "code",
   "execution_count": null,
   "id": "f72bb662",
   "metadata": {},
   "outputs": [],
   "source": [
    "print(bs_obj.findAll(\"ul\",{\"class\": \"prdList\"})[0].findAll(\"li\",{\"class\":\"xans-record-\"}))"
   ]
  },
  {
   "cell_type": "code",
   "execution_count": null,
   "id": "bea283e0",
   "metadata": {},
   "outputs": [],
   "source": [
    "print(bs_obj.findAll(\"ul\",{\"class\": \"prdList\"})[0].findAll(\"li\",{\"class\":\"xans-record-\"}))\n",
    "를통해 각 prdList[0]번에 해당하는 것들의 각 제품군 li들을 다 불러왔다."
   ]
  },
  {
   "cell_type": "code",
   "execution_count": null,
   "id": "30340052",
   "metadata": {},
   "outputs": [],
   "source": [
    "print(bs_obj.findAll(\"ul\",{\"class\": \"prdList\"})[0].findAll(\"li\",{\"class\":\"xans-record-\"})[0].text)\n",
    "print(bs_obj.findAll(\"ul\",{\"class\": \"prdList\"})[0].findAll(\"li\",{\"class\":\"xans-record-\"})[0].a)\n",
    "print(\"\\n\")\n",
    "print(bs_obj.findAll(\"ul\",{\"class\": \"prdList\"})[0].findAll(\"li\",{\"class\":\"xans-record-\"})[0].a[\"href\"])"
   ]
  },
  {
   "cell_type": "code",
   "execution_count": null,
   "id": "d59ee73e",
   "metadata": {},
   "outputs": [],
   "source": [
    "bs_obj.findAll(\"ul\",{\"class\": \"prdList\"})[0].findAll(\"li\",{\"class\":\"xans-record-\"})[0].a[\"href\"]를 통하여\n",
    "prdList0번에 있는 0~5번째에서 0번째 상품의 주소값을 얻었다.\n",
    "이제 0번째 상품의 이름과 가격을 찍어보자."
   ]
  },
  {
   "cell_type": "code",
   "execution_count": null,
   "id": "ead30b6d",
   "metadata": {},
   "outputs": [],
   "source": [
    "print(bs_obj.findAll(\"ul\",{\"class\": \"prdList\"})[0].findAll(\"li\",{\"class\":\"xans-record-\"})[0].findAll(\"strong\")[0].findAll(\"span\")[-1].text)      #findAll(\"ul\")[0].t\n",
    "print(bs_obj.findAll(\"ul\",{\"class\": \"prdList\"})[0].findAll(\"li\",{\"class\":\"xans-record-\"})[0].findAll(\"span\")[-1].text)"
   ]
  },
  {
   "cell_type": "code",
   "execution_count": null,
   "id": "d844b4e3",
   "metadata": {},
   "outputs": [],
   "source": [
    "print(bs_obj.findAll(\"ul\",{\"class\": \"prdList\"})[0].findAll(\"li\",{\"class\":\"xans-record-\"})[0].findAll(\"strong\")[0])\n",
    "print(bs_obj.findAll(\"ul\",{\"class\": \"prdList\"})[0].findAll(\"li\",{\"class\":\"xans-record-\"})[0].findAll(\"strong\")[1])"
   ]
  },
  {
   "cell_type": "raw",
   "id": "3835a07d",
   "metadata": {},
   "source": [
    "원하는것 strong[0]에 들어 있다.\n",
    "자 이제, \n",
    "bs_obj.findAll(\"ul\",{\"class\": \"prdList\"})[0].findAll(\"li\",{\"class\":\"xans-record-\"})[0].findAll(\"strong\")[0].findAll(\"span\")[-1].text\n",
    "을 한다면, 제품의 이름을 가져올 것이며\n",
    "bs_obj.findAll(\"ul\",{\"class\": \"prdList\"})[0].findAll(\"li\",{\"class\":\"xans-record-\"})[0].findAll(\"span\")[-1].text\n",
    "를 한다면, 제품의 가격을 가져올 것이다.\n",
    "bs_obj.findAll(\"ul\",{\"class\": \"prdList\"})[0].findAll(\"li\",{\"class\":\"xans-record-\"})[0].a[\"href\"]\n",
    "를 한다면, 제품의 주소를 가져올 것이다.\n"
   ]
  },
  {
   "cell_type": "code",
   "execution_count": null,
   "id": "5342b2cb",
   "metadata": {},
   "outputs": [],
   "source": [
    "for i in range(0, len(bs_obj.findAll(\"ul\",{\"class\": \"prdList\"}))): #prdList는 2개이므로 길이는 2\n",
    "    for j in range(0, int(int(len(bs_obj.findAll(\"ul\",{\"class\": \"prdList\"})[i].findAll(\"li\",{\"class\":\"xans-record-\"})))/3)):\n",
    "        count +=1\n",
    "        print(bs_obj.findAll(\"ul\",{\"class\": \"prdList\"})[i].findAll(\"li\",{\"class\":\"xans-record-\"})[j*3].findAll(\"strong\")[0].findAll(\"span\")[-1].text)\n",
    "        print(bs_obj.findAll(\"ul\",{\"class\": \"prdList\"})[i].findAll(\"li\",{\"class\":\"xans-record-\"})[j*3].findAll(\"span\")[-1].text)\n",
    "        print(bs_obj.findAll(\"ul\",{\"class\": \"prdList\"})[i].findAll(\"li\",{\"class\":\"xans-record-\"})[j*3].a[\"href\"])"
   ]
  },
  {
   "cell_type": "markdown",
   "id": "86d24a5e",
   "metadata": {},
   "source": [
    "자 이제, for문을 통하여 원하는 페이지 만큼 입력을 받고, 긁어 보자."
   ]
  },
  {
   "cell_type": "code",
   "execution_count": null,
   "id": "504943d7",
   "metadata": {},
   "outputs": [],
   "source": [
    "# import requests\n",
    "from bs4 import BeautifulSoup\n",
    "import psycopg2\n",
    "conn_str = \"host=localhost dbname=postgres user=postgres password=admin port=5432\"\n",
    "conn = psycopg2.connect(conn_str)\n",
    "base_url = \"https://jolse.com/category/toners-mists/1019/\"\n",
    "start_page = int(input(\"시작할 페이지를 입력해 주세요.\\n\"))\n",
    "end_page = int(input(\"끝낼 페이지를 입력해 주세요.\\n\"))\n",
    "start_no = start_page\n",
    "cur = conn.cursor()\n",
    "cur.execute('''CREATE TABLE prodlist (number serial, prod varchar(100), link varchar(255), price varchar(50))''') \n",
    "conn.commit()\n",
    "for x in range(start_page,end_page+1):\n",
    "    print(\"현재 페이지는 {0} 입니다.\\n\".format(x))\n",
    "    url =base_url+\"?page=\"+str(start_no)\n",
    "    response = requests.get(url, headers={\"User-Agent\": \"Mozilla/5.0\"})\n",
    "    bs_obj = BeautifulSoup(response.content, 'html.parser')\n",
    "    for i in range(0, len(bs_obj.findAll(\"ul\",{\"class\": \"prdList\"}))): #prdList는 2개이므로 길이는 2\n",
    "        set_href = bs_obj.findAll(\"ul\",{\"class\": \"prdList\"})[i].findAll(\"div\",{\"class\":\"prdImg\"})\n",
    "        set_attr = bs_obj.findAll(\"ul\",{\"class\": \"prdList\"})[i].findAll(\"div\",{\"class\":\"description\"})\n",
    "        for j in range(0, len(set_href)):\n",
    "            count +=1\n",
    "            if len(set_attr[j].find(\"ul\",{\"class\":\"xans-element-\"}).findAll(\"span\")) == 5:\n",
    "                print(set_attr[j].find(\"strong\",{\"class\": \"name\"}).findAll(\"span\")[-1].text)\n",
    "                print((set_attr[j].find(\"ul\",{\"class\":\"xans-element-\"}).findAll(\"span\"))[-1].text)\n",
    "                print(set_href[j].a['href'])\n",
    "                cur.execute(\"INSERT INTO prodlist (prod, link, price) VALUES (%s, %s, %s);\",(set_attr[j].find(\"strong\",{\"class\": \"name\"}).findAll(\"span\")[-1].text, set_href[j].a['href'], set_attr[j].find(\"ul\",{\"class\":\"xans-element-\"}).findAll(\"span\")[-1].text))\n",
    "                conn.commit()\n",
    "                print(\"\\n\")\n",
    "            elif len(set_attr[j].find(\"ul\",{\"class\":\"xans-element-\"}).findAll(\"span\")) == 3:\n",
    "                print(set_attr[j].find(\"strong\",{\"class\": \"name\"}).findAll(\"span\")[-1].text)\n",
    "                print((set_attr[j].find(\"ul\",{\"class\":\"xans-element-\"}).findAll(\"span\"))[-2].text)\n",
    "                print(set_href[j].a['href'])\n",
    "                cur.execute(\"INSERT INTO prodlist (prod, link, price) VALUES (%s, %s, %s);\",(set_attr[j].find(\"strong\",{\"class\": \"name\"}).findAll(\"span\")[-1].text, set_href[j].a['href'], set_attr[j].find(\"ul\",{\"class\":\"xans-element-\"}).findAll(\"span\")[-2].text))\n",
    "                conn.commit()\n",
    "                print(\"\\n\")\n",
    "    start_no += 1\n",
    "    print(\"\\n\")\n",
    "cur.execute(\"select * from prodlist;\") # sql 문장\n",
    "conn.commit()\n",
    "rows = cur.fetchall()\n",
    "print(rows)"
   ]
  }
 ],
 "metadata": {
  "kernelspec": {
   "display_name": "Python 3 (ipykernel)",
   "language": "python",
   "name": "python3"
  },
  "language_info": {
   "codemirror_mode": {
    "name": "ipython",
    "version": 3
   },
   "file_extension": ".py",
   "mimetype": "text/x-python",
   "name": "python",
   "nbconvert_exporter": "python",
   "pygments_lexer": "ipython3",
   "version": "3.9.7"
  }
 },
 "nbformat": 4,
 "nbformat_minor": 5
}
