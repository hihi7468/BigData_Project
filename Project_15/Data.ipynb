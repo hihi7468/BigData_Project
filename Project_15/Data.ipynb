{
 "cells": [
  {
   "cell_type": "code",
   "execution_count": 29,
   "id": "ac9fdc80",
   "metadata": {},
   "outputs": [
    {
     "name": "stderr",
     "output_type": "stream",
     "text": [
      "C:\\Users\\82104\\AppData\\Local\\Temp/ipykernel_12616/327394670.py:2: ParserWarning: Length of header or names does not match length of data. This leads to a loss of data with index_col=False.\n",
      "  csv_test = pd.read_csv('data/GU_2019.csv', encoding=\"CP949\",index_col = False)\n"
     ]
    }
   ],
   "source": [
    "import pandas as pd\n",
    "csv_test = pd.read_csv('data/GU_2019.csv', encoding=\"CP949\",index_col = False)"
   ]
  },
  {
   "cell_type": "code",
   "execution_count": 30,
   "id": "020bda54",
   "metadata": {},
   "outputs": [
    {
     "name": "stdout",
     "output_type": "stream",
     "text": [
      "<class 'pandas.core.frame.DataFrame'>\n",
      "RangeIndex: 211200 entries, 0 to 211199\n",
      "Data columns (total 32 columns):\n",
      " #   Column           Non-Null Count   Dtype  \n",
      "---  ------           --------------   -----  \n",
      " 0   기준일ID            211200 non-null  int64  \n",
      " 1   시간대구분            211200 non-null  int64  \n",
      " 2   자치구코드            211200 non-null  int64  \n",
      " 3   총생활인구수           211200 non-null  float64\n",
      " 4   남자0세부터9세생활인구수    211200 non-null  float64\n",
      " 5   남자10세부터14세생활인구수  211200 non-null  float64\n",
      " 6   남자15세부터19세생활인구수  211200 non-null  float64\n",
      " 7   남자20세부터24세생활인구수  211200 non-null  float64\n",
      " 8   남자25세부터29세생활인구수  211200 non-null  float64\n",
      " 9   남자30세부터34세생활인구수  211200 non-null  float64\n",
      " 10  남자35세부터39세생활인구수  211200 non-null  float64\n",
      " 11  남자40세부터44세생활인구수  211200 non-null  float64\n",
      " 12  남자45세부터49세생활인구수  211200 non-null  float64\n",
      " 13  남자50세부터54세생활인구수  211200 non-null  float64\n",
      " 14  남자55세부터59세생활인구수  211200 non-null  float64\n",
      " 15  남자60세부터64세생활인구수  211200 non-null  float64\n",
      " 16  남자65세부터69세생활인구수  211200 non-null  float64\n",
      " 17  남자70세이상생활인구수     211200 non-null  float64\n",
      " 18  여자0세부터9세생활인구수    211200 non-null  float64\n",
      " 19  여자10세부터14세생활인구수  211200 non-null  float64\n",
      " 20  여자15세부터19세생활인구수  211200 non-null  float64\n",
      " 21  여자20세부터24세생활인구수  211200 non-null  float64\n",
      " 22  여자25세부터29세생활인구수  211200 non-null  float64\n",
      " 23  여자30세부터34세생활인구수  211200 non-null  float64\n",
      " 24  여자35세부터39세생활인구수  211200 non-null  float64\n",
      " 25  여자40세부터44세생활인구수  211200 non-null  float64\n",
      " 26  여자45세부터49세생활인구수  211200 non-null  float64\n",
      " 27  여자50세부터54세생활인구수  211200 non-null  float64\n",
      " 28  여자55세부터59세생활인구수  211200 non-null  float64\n",
      " 29  여자60세부터64세생활인구수  211200 non-null  float64\n",
      " 30  여자65세부터69세생활인구수  211200 non-null  float64\n",
      " 31  여자70세이상생활인구수     211200 non-null  float64\n",
      "dtypes: float64(29), int64(3)\n",
      "memory usage: 51.6 MB\n"
     ]
    }
   ],
   "source": [
    "csv_test.info()"
   ]
  },
  {
   "cell_type": "code",
   "execution_count": 31,
   "id": "82cf080b",
   "metadata": {},
   "outputs": [],
   "source": [
    "csv_test= csv_test[['기준일ID','시간대구분','자치구코드','총생활인구수']]"
   ]
  },
  {
   "cell_type": "code",
   "execution_count": 32,
   "id": "76d85169",
   "metadata": {},
   "outputs": [
    {
     "name": "stdout",
     "output_type": "stream",
     "text": [
      "<class 'pandas.core.frame.DataFrame'>\n",
      "RangeIndex: 211200 entries, 0 to 211199\n",
      "Data columns (total 4 columns):\n",
      " #   Column  Non-Null Count   Dtype  \n",
      "---  ------  --------------   -----  \n",
      " 0   기준일ID   211200 non-null  int64  \n",
      " 1   시간대구분   211200 non-null  int64  \n",
      " 2   자치구코드   211200 non-null  int64  \n",
      " 3   총생활인구수  211200 non-null  float64\n",
      "dtypes: float64(1), int64(3)\n",
      "memory usage: 6.4 MB\n"
     ]
    }
   ],
   "source": [
    "csv_test.info()"
   ]
  },
  {
   "cell_type": "code",
   "execution_count": 33,
   "id": "adf6101a",
   "metadata": {},
   "outputs": [
    {
     "data": {
      "text/html": [
       "<div>\n",
       "<style scoped>\n",
       "    .dataframe tbody tr th:only-of-type {\n",
       "        vertical-align: middle;\n",
       "    }\n",
       "\n",
       "    .dataframe tbody tr th {\n",
       "        vertical-align: top;\n",
       "    }\n",
       "\n",
       "    .dataframe thead th {\n",
       "        text-align: right;\n",
       "    }\n",
       "</style>\n",
       "<table border=\"1\" class=\"dataframe\">\n",
       "  <thead>\n",
       "    <tr style=\"text-align: right;\">\n",
       "      <th></th>\n",
       "      <th>기준일ID</th>\n",
       "      <th>시간대구분</th>\n",
       "      <th>자치구코드</th>\n",
       "      <th>총생활인구수</th>\n",
       "    </tr>\n",
       "  </thead>\n",
       "  <tbody>\n",
       "    <tr>\n",
       "      <th>0</th>\n",
       "      <td>20190101</td>\n",
       "      <td>0</td>\n",
       "      <td>11110</td>\n",
       "      <td>247783.9476</td>\n",
       "    </tr>\n",
       "    <tr>\n",
       "      <th>1</th>\n",
       "      <td>20190101</td>\n",
       "      <td>0</td>\n",
       "      <td>11140</td>\n",
       "      <td>176516.2769</td>\n",
       "    </tr>\n",
       "    <tr>\n",
       "      <th>2</th>\n",
       "      <td>20190101</td>\n",
       "      <td>0</td>\n",
       "      <td>11170</td>\n",
       "      <td>287806.8492</td>\n",
       "    </tr>\n",
       "    <tr>\n",
       "      <th>3</th>\n",
       "      <td>20190101</td>\n",
       "      <td>0</td>\n",
       "      <td>11200</td>\n",
       "      <td>335106.5204</td>\n",
       "    </tr>\n",
       "    <tr>\n",
       "      <th>4</th>\n",
       "      <td>20190101</td>\n",
       "      <td>0</td>\n",
       "      <td>11215</td>\n",
       "      <td>399818.0269</td>\n",
       "    </tr>\n",
       "    <tr>\n",
       "      <th>...</th>\n",
       "      <td>...</td>\n",
       "      <td>...</td>\n",
       "      <td>...</td>\n",
       "      <td>...</td>\n",
       "    </tr>\n",
       "    <tr>\n",
       "      <th>211195</th>\n",
       "      <td>20191231</td>\n",
       "      <td>23</td>\n",
       "      <td>11620</td>\n",
       "      <td>512045.7410</td>\n",
       "    </tr>\n",
       "    <tr>\n",
       "      <th>211196</th>\n",
       "      <td>20191231</td>\n",
       "      <td>23</td>\n",
       "      <td>11650</td>\n",
       "      <td>507017.9562</td>\n",
       "    </tr>\n",
       "    <tr>\n",
       "      <th>211197</th>\n",
       "      <td>20191231</td>\n",
       "      <td>23</td>\n",
       "      <td>11680</td>\n",
       "      <td>701730.1925</td>\n",
       "    </tr>\n",
       "    <tr>\n",
       "      <th>211198</th>\n",
       "      <td>20191231</td>\n",
       "      <td>23</td>\n",
       "      <td>11710</td>\n",
       "      <td>776809.6518</td>\n",
       "    </tr>\n",
       "    <tr>\n",
       "      <th>211199</th>\n",
       "      <td>20191231</td>\n",
       "      <td>23</td>\n",
       "      <td>11740</td>\n",
       "      <td>522271.9542</td>\n",
       "    </tr>\n",
       "  </tbody>\n",
       "</table>\n",
       "<p>211200 rows × 4 columns</p>\n",
       "</div>"
      ],
      "text/plain": [
       "           기준일ID  시간대구분  자치구코드       총생활인구수\n",
       "0       20190101      0  11110  247783.9476\n",
       "1       20190101      0  11140  176516.2769\n",
       "2       20190101      0  11170  287806.8492\n",
       "3       20190101      0  11200  335106.5204\n",
       "4       20190101      0  11215  399818.0269\n",
       "...          ...    ...    ...          ...\n",
       "211195  20191231     23  11620  512045.7410\n",
       "211196  20191231     23  11650  507017.9562\n",
       "211197  20191231     23  11680  701730.1925\n",
       "211198  20191231     23  11710  776809.6518\n",
       "211199  20191231     23  11740  522271.9542\n",
       "\n",
       "[211200 rows x 4 columns]"
      ]
     },
     "execution_count": 33,
     "metadata": {},
     "output_type": "execute_result"
    }
   ],
   "source": [
    "csv_test"
   ]
  },
  {
   "cell_type": "code",
   "execution_count": 35,
   "id": "ca5d1f0f",
   "metadata": {},
   "outputs": [],
   "source": [
    "csv_test = csv_test[csv_test['시간대구분']==0]"
   ]
  },
  {
   "cell_type": "code",
   "execution_count": 37,
   "id": "891f79b7",
   "metadata": {},
   "outputs": [],
   "source": [
    "csv_test= csv_test[['기준일ID','자치구코드','총생활인구수']]"
   ]
  },
  {
   "cell_type": "code",
   "execution_count": 45,
   "id": "154b3918",
   "metadata": {},
   "outputs": [
    {
     "name": "stdout",
     "output_type": "stream",
     "text": [
      "<class 'pandas.core.frame.DataFrame'>\n",
      "Int64Index: 8800 entries, 0 to 210624\n",
      "Data columns (total 3 columns):\n",
      " #   Column  Non-Null Count  Dtype  \n",
      "---  ------  --------------  -----  \n",
      " 0   기준일ID   8800 non-null   string \n",
      " 1   자치구코드   8800 non-null   int64  \n",
      " 2   총생활인구수  8800 non-null   float64\n",
      "dtypes: float64(1), int64(1), string(1)\n",
      "memory usage: 275.0 KB\n"
     ]
    }
   ],
   "source": [
    "csv_test.info()"
   ]
  },
  {
   "cell_type": "code",
   "execution_count": 50,
   "id": "255ca9e1",
   "metadata": {},
   "outputs": [],
   "source": [
    "csv_test = csv_test.astype({'기준일ID':'string'})\n",
    "csv_test = csv_test.astype({'총생활인구수':'int'})"
   ]
  },
  {
   "cell_type": "code",
   "execution_count": 51,
   "id": "f3c96ae9",
   "metadata": {},
   "outputs": [],
   "source": [
    "csv_test[\"Year\"] = csv_test['기준일ID'].str[:4]\n",
    "csv_test[\"Month\"] = csv_test['기준일ID'].str[4:6]"
   ]
  },
  {
   "cell_type": "code",
   "execution_count": 54,
   "id": "cd4e8a6b",
   "metadata": {},
   "outputs": [],
   "source": [
    "csv_test = csv_test[['Year','Month','자치구코드','총생활인구수']]"
   ]
  },
  {
   "cell_type": "code",
   "execution_count": 55,
   "id": "c4775d82",
   "metadata": {},
   "outputs": [
    {
     "data": {
      "text/html": [
       "<div>\n",
       "<style scoped>\n",
       "    .dataframe tbody tr th:only-of-type {\n",
       "        vertical-align: middle;\n",
       "    }\n",
       "\n",
       "    .dataframe tbody tr th {\n",
       "        vertical-align: top;\n",
       "    }\n",
       "\n",
       "    .dataframe thead th {\n",
       "        text-align: right;\n",
       "    }\n",
       "</style>\n",
       "<table border=\"1\" class=\"dataframe\">\n",
       "  <thead>\n",
       "    <tr style=\"text-align: right;\">\n",
       "      <th></th>\n",
       "      <th>Year</th>\n",
       "      <th>Month</th>\n",
       "      <th>자치구코드</th>\n",
       "      <th>총생활인구수</th>\n",
       "    </tr>\n",
       "  </thead>\n",
       "  <tbody>\n",
       "    <tr>\n",
       "      <th>0</th>\n",
       "      <td>2019</td>\n",
       "      <td>01</td>\n",
       "      <td>11110</td>\n",
       "      <td>247783</td>\n",
       "    </tr>\n",
       "    <tr>\n",
       "      <th>1</th>\n",
       "      <td>2019</td>\n",
       "      <td>01</td>\n",
       "      <td>11140</td>\n",
       "      <td>176516</td>\n",
       "    </tr>\n",
       "    <tr>\n",
       "      <th>2</th>\n",
       "      <td>2019</td>\n",
       "      <td>01</td>\n",
       "      <td>11170</td>\n",
       "      <td>287806</td>\n",
       "    </tr>\n",
       "    <tr>\n",
       "      <th>3</th>\n",
       "      <td>2019</td>\n",
       "      <td>01</td>\n",
       "      <td>11200</td>\n",
       "      <td>335106</td>\n",
       "    </tr>\n",
       "    <tr>\n",
       "      <th>4</th>\n",
       "      <td>2019</td>\n",
       "      <td>01</td>\n",
       "      <td>11215</td>\n",
       "      <td>399818</td>\n",
       "    </tr>\n",
       "    <tr>\n",
       "      <th>...</th>\n",
       "      <td>...</td>\n",
       "      <td>...</td>\n",
       "      <td>...</td>\n",
       "      <td>...</td>\n",
       "    </tr>\n",
       "    <tr>\n",
       "      <th>210620</th>\n",
       "      <td>2019</td>\n",
       "      <td>12</td>\n",
       "      <td>11620</td>\n",
       "      <td>534943</td>\n",
       "    </tr>\n",
       "    <tr>\n",
       "      <th>210621</th>\n",
       "      <td>2019</td>\n",
       "      <td>12</td>\n",
       "      <td>11650</td>\n",
       "      <td>498231</td>\n",
       "    </tr>\n",
       "    <tr>\n",
       "      <th>210622</th>\n",
       "      <td>2019</td>\n",
       "      <td>12</td>\n",
       "      <td>11680</td>\n",
       "      <td>693225</td>\n",
       "    </tr>\n",
       "    <tr>\n",
       "      <th>210623</th>\n",
       "      <td>2019</td>\n",
       "      <td>12</td>\n",
       "      <td>11710</td>\n",
       "      <td>767562</td>\n",
       "    </tr>\n",
       "    <tr>\n",
       "      <th>210624</th>\n",
       "      <td>2019</td>\n",
       "      <td>12</td>\n",
       "      <td>11740</td>\n",
       "      <td>522989</td>\n",
       "    </tr>\n",
       "  </tbody>\n",
       "</table>\n",
       "<p>8800 rows × 4 columns</p>\n",
       "</div>"
      ],
      "text/plain": [
       "        Year Month  자치구코드  총생활인구수\n",
       "0       2019    01  11110  247783\n",
       "1       2019    01  11140  176516\n",
       "2       2019    01  11170  287806\n",
       "3       2019    01  11200  335106\n",
       "4       2019    01  11215  399818\n",
       "...      ...   ...    ...     ...\n",
       "210620  2019    12  11620  534943\n",
       "210621  2019    12  11650  498231\n",
       "210622  2019    12  11680  693225\n",
       "210623  2019    12  11710  767562\n",
       "210624  2019    12  11740  522989\n",
       "\n",
       "[8800 rows x 4 columns]"
      ]
     },
     "execution_count": 55,
     "metadata": {},
     "output_type": "execute_result"
    }
   ],
   "source": [
    "csv_test"
   ]
  },
  {
   "cell_type": "code",
   "execution_count": 61,
   "id": "2a0d4859",
   "metadata": {},
   "outputs": [
    {
     "data": {
      "text/plain": [
       "<pandas.core.groupby.generic.DataFrameGroupBy object at 0x0000019886759340>"
      ]
     },
     "execution_count": 61,
     "metadata": {},
     "output_type": "execute_result"
    }
   ],
   "source": [
    "grouped =csv_test.groupby([\"Year\",\"Month\",\"자치구코드\"])\n",
    "grouped"
   ]
  },
  {
   "cell_type": "code",
   "execution_count": 65,
   "id": "89007009",
   "metadata": {},
   "outputs": [
    {
     "name": "stdout",
     "output_type": "stream",
     "text": [
      "Year  Month  자치구코드\n",
      "2019  01     11110    247783\n",
      "             11140    176516\n",
      "             11170    287806\n",
      "             11200    335106\n",
      "             11215    399818\n",
      "                       ...  \n",
      "      12     11620    534349\n",
      "             11650    495785\n",
      "             11680    664892\n",
      "             11710    751170\n",
      "             11740    517560\n",
      "Name: 총생활인구수, Length: 300, dtype: int32\n"
     ]
    }
   ],
   "source": [
    "tp = grouped.agg('총생활인구수')\n",
    "print(tp.first())"
   ]
  },
  {
   "cell_type": "code",
   "execution_count": 68,
   "id": "5a009864",
   "metadata": {},
   "outputs": [
    {
     "ename": "NameError",
     "evalue": "name 'np' is not defined",
     "output_type": "error",
     "traceback": [
      "\u001b[1;31m---------------------------------------------------------------------------\u001b[0m",
      "\u001b[1;31mNameError\u001b[0m                                 Traceback (most recent call last)",
      "\u001b[1;32m~\\AppData\\Local\\Temp/ipykernel_12616/2535903392.py\u001b[0m in \u001b[0;36m<module>\u001b[1;34m\u001b[0m\n\u001b[0;32m      1\u001b[0m \u001b[0mdatas\u001b[0m \u001b[1;33m=\u001b[0m \u001b[1;33m[\u001b[0m\u001b[0melem\u001b[0m \u001b[1;32mfor\u001b[0m \u001b[0melem\u001b[0m \u001b[1;32min\u001b[0m \u001b[0mtp\u001b[0m\u001b[1;33m.\u001b[0m\u001b[0mfirst\u001b[0m\u001b[1;33m(\u001b[0m\u001b[1;33m)\u001b[0m\u001b[1;33m]\u001b[0m\u001b[1;33m\u001b[0m\u001b[1;33m\u001b[0m\u001b[0m\n\u001b[1;32m----> 2\u001b[1;33m \u001b[0mnp\u001b[0m\u001b[1;33m.\u001b[0m\u001b[0mmean\u001b[0m\u001b[1;33m(\u001b[0m\u001b[0mdatas\u001b[0m\u001b[1;33m.\u001b[0m\u001b[0mmean\u001b[0m\u001b[1;33m)\u001b[0m\u001b[1;33m\u001b[0m\u001b[1;33m\u001b[0m\u001b[0m\n\u001b[0m",
      "\u001b[1;31mNameError\u001b[0m: name 'np' is not defined"
     ]
    }
   ],
   "source": [
    "\n",
    "datas = [elem for elem in tp.first()]\n",
    "np.mean(datas.mean)"
   ]
  },
  {
   "cell_type": "code",
   "execution_count": null,
   "id": "2871d4f3",
   "metadata": {},
   "outputs": [],
   "source": []
  }
 ],
 "metadata": {
  "kernelspec": {
   "display_name": "Python 3 (ipykernel)",
   "language": "python",
   "name": "python3"
  },
  "language_info": {
   "codemirror_mode": {
    "name": "ipython",
    "version": 3
   },
   "file_extension": ".py",
   "mimetype": "text/x-python",
   "name": "python",
   "nbconvert_exporter": "python",
   "pygments_lexer": "ipython3",
   "version": "3.9.7"
  }
 },
 "nbformat": 4,
 "nbformat_minor": 5
}
